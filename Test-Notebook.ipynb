{
 "cells": [
  {
   "cell_type": "code",
   "execution_count": 1,
   "metadata": {},
   "outputs": [],
   "source": [
    "import pandas as pd\n",
    "import numpy as pd\n",
    "\n",
    "# This is a test"
   ]
  },
  {
   "cell_type": "code",
   "execution_count": 6,
   "metadata": {},
   "outputs": [],
   "source": [
    "! git config user.name \"radleap\"\n",
    "! git config user.email \"guy@radleap.com\"\n",
    "! git config user.password \"Git112358!\""
   ]
  },
  {
   "cell_type": "code",
   "execution_count": 7,
   "metadata": {},
   "outputs": [
    {
     "name": "stdout",
     "output_type": "stream",
     "text": [
      "credential.helper=!aws codecommit credential-helper $@\r\n",
      "credential.usehttppath=true\r\n",
      "credential.helper=store\r\n",
      "credential.helper=!aws codecommit credential-helper $@\r\n",
      "diff.jupyternotebook.command=git-nbdiffdriver diff\r\n",
      "merge.jupyternotebook.driver=git-nbmergedriver merge %O %A %B %L %P\r\n",
      "merge.jupyternotebook.name=jupyter notebook merge driver\r\n",
      "difftool.nbdime.cmd=git-nbdifftool diff \"$LOCAL\" \"$REMOTE\" \"$BASE\"\r\n",
      "difftool.prompt=false\r\n",
      "mergetool.nbdime.cmd=git-nbmergetool merge \"$BASE\" \"$LOCAL\" \"$REMOTE\" \"$MERGED\"\r\n",
      "mergetool.prompt=false\r\n",
      "core.repositoryformatversion=0\r\n",
      "core.filemode=true\r\n",
      "core.bare=false\r\n",
      "core.logallrefupdates=true\r\n",
      "remote.origin.url=https://github.com/radleap/sagemaker-deployment.git\r\n",
      "remote.origin.fetch=+refs/heads/*:refs/remotes/origin/*\r\n",
      "branch.master.remote=origin\r\n",
      "branch.master.merge=refs/heads/master\r\n",
      "sagemaker.id=https://github.com/radleap/sagemaker-deployment.git\r\n",
      "user.name=radleap\r\n",
      "user.email=guy@radleap.com\r\n",
      "user.password=Git112358!\r\n"
     ]
    }
   ],
   "source": [
    "! git config --list"
   ]
  },
  {
   "cell_type": "code",
   "execution_count": null,
   "metadata": {},
   "outputs": [],
   "source": []
  }
 ],
 "metadata": {
  "kernelspec": {
   "display_name": "conda_python3",
   "language": "python",
   "name": "conda_python3"
  },
  "language_info": {
   "codemirror_mode": {
    "name": "ipython",
    "version": 3
   },
   "file_extension": ".py",
   "mimetype": "text/x-python",
   "name": "python",
   "nbconvert_exporter": "python",
   "pygments_lexer": "ipython3",
   "version": "3.6.5"
  }
 },
 "nbformat": 4,
 "nbformat_minor": 2
}
